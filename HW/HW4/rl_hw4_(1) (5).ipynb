{
  "metadata": {
    "colab": {
      "provenance": [],
      "include_colab_link": true
    },
    "kernelspec": {
      "name": "python3",
      "display_name": "Python 3"
    },
    "language_info": {
      "name": "python",
      "version": "3.10.13",
      "mimetype": "text/x-python",
      "codemirror_mode": {
        "name": "ipython",
        "version": 3
      },
      "pygments_lexer": "ipython3",
      "nbconvert_exporter": "python",
      "file_extension": ".py"
    },
    "kaggle": {
      "accelerator": "none",
      "dataSources": [],
      "dockerImageVersionId": 30732,
      "isInternetEnabled": true,
      "language": "python",
      "sourceType": "notebook",
      "isGpuEnabled": false
    }
  },
  "nbformat_minor": 0,
  "nbformat": 4,
  "cells": [
    {
      "cell_type": "markdown",
      "metadata": {
        "id": "view-in-github",
        "colab_type": "text"
      },
      "source": [
        "<a href=\"https://colab.research.google.com/github/amirrezavelae/Reinforcement-Learning/blob/main/HW/HW4/rl_hw4_(1)%20(5).ipynb\" target=\"_parent\"><img src=\"https://colab.research.google.com/assets/colab-badge.svg\" alt=\"Open In Colab\"/></a>"
      ]
    },
    {
      "cell_type": "markdown",
      "source": [
        "# Offline RL (80 Points)\n",
        "\n",
        "> Name: Amirreza Velae\n",
        "\n",
        "> SID: 400102222\n",
        "\n"
      ],
      "metadata": {
        "id": "r9HxtwHbk6Pc"
      }
    },
    {
      "cell_type": "markdown",
      "source": [
        "\n",
        "In this notebook, we will implement the Soft Actor Critic (SAC) algorithm on the CartPole environment in both online and offline settings. The SAC framework focuses on maximizing the expected reward while also maximizing entropy, meaning the actor aims to succeed at the task while maintaining a high level of randomness in its actions. This approach explicitly encourages exploration by seeking a high entropy in the policy.\n",
        "\n",
        "In the second part, we will use the policy learned in the first part to collect a dataset of expert trajectories and perform behavioral cloning.\n",
        "\n",
        "*The existing results are the baseline for the quality of your implementation.*"
      ],
      "metadata": {
        "id": "1PJUxRV4MIod"
      }
    },
    {
      "cell_type": "code",
      "source": [
        "!pip -q install imageio==2.19.3\n",
        "!pip -q install imageio-ffmpeg"
      ],
      "metadata": {
        "execution": {
          "iopub.status.busy": "2024-07-10T23:06:44.508642Z",
          "iopub.execute_input": "2024-07-10T23:06:44.509338Z",
          "iopub.status.idle": "2024-07-10T23:07:43.014223Z",
          "shell.execute_reply.started": "2024-07-10T23:06:44.509197Z",
          "shell.execute_reply": "2024-07-10T23:07:43.012593Z"
        },
        "trusted": true,
        "id": "KTJiJHT358FN",
        "colab": {
          "base_uri": "https://localhost:8080/"
        },
        "outputId": "db95ded5-007f-45e1-ed13-69b1586142ad"
      },
      "execution_count": null,
      "outputs": [
        {
          "output_type": "stream",
          "name": "stdout",
          "text": [
            "\u001b[2K     \u001b[90m━━━━━━━━━━━━━━━━━━━━━━━━━━━━━━━━━━━━━━━━\u001b[0m \u001b[32m3.4/3.4 MB\u001b[0m \u001b[31m15.4 MB/s\u001b[0m eta \u001b[36m0:00:00\u001b[0m\n",
            "\u001b[?25h"
          ]
        }
      ]
    },
    {
      "cell_type": "code",
      "source": [
        "import torch\n",
        "import torch.nn as nn\n",
        "import torch.nn.functional as F\n",
        "from torch.distributions import Normal\n",
        "import torch.optim as optim\n",
        "import numpy as np\n",
        "import random\n",
        "import gym\n",
        "import matplotlib.pyplot as plt\n",
        "import imageio\n",
        "from tqdm import tqdm\n",
        "\n",
        "\n",
        "seed = 42\n",
        "random.seed(seed)\n",
        "np.random.seed(seed)\n",
        "torch.manual_seed(seed)\n",
        "torch.cuda.manual_seed(seed)\n",
        "torch.backends.cudnn.deterministic = True"
      ],
      "metadata": {
        "id": "UC-BecdPmdb3",
        "execution": {
          "iopub.status.busy": "2024-07-10T23:07:43.016722Z",
          "iopub.execute_input": "2024-07-10T23:07:43.017148Z",
          "iopub.status.idle": "2024-07-10T23:07:46.432798Z",
          "shell.execute_reply.started": "2024-07-10T23:07:43.017098Z",
          "shell.execute_reply": "2024-07-10T23:07:46.431526Z"
        },
        "trusted": true
      },
      "execution_count": null,
      "outputs": []
    },
    {
      "cell_type": "code",
      "source": [
        "from IPython.display import HTML\n",
        "from base64 import b64encode\n",
        "\n",
        "def show_video(path):\n",
        "    mp4 = open(path, 'rb').read()\n",
        "    data_url = \"data:video/mp4;base64,\" + b64encode(mp4).decode()\n",
        "    return HTML(\"\"\"\n",
        "    <video width=400 controls>\n",
        "          <source src=\"%s\" type=\"video/mp4\">\n",
        "    </video>\n",
        "    \"\"\" % data_url)"
      ],
      "metadata": {
        "id": "GSpSSRB-zCea",
        "execution": {
          "iopub.status.busy": "2024-07-10T23:07:46.434158Z",
          "iopub.execute_input": "2024-07-10T23:07:46.434613Z",
          "iopub.status.idle": "2024-07-10T23:07:46.441279Z",
          "shell.execute_reply.started": "2024-07-10T23:07:46.434580Z",
          "shell.execute_reply": "2024-07-10T23:07:46.440091Z"
        },
        "trusted": true,
        "colab": {
          "base_uri": "https://localhost:8080/"
        },
        "outputId": "acf499de-af15-497f-e140-8beb04c803f1"
      },
      "execution_count": null,
      "outputs": [
        {
          "output_type": "stream",
          "name": "stderr",
          "text": [
            "/usr/local/lib/python3.10/dist-packages/ipykernel/ipkernel.py:283: DeprecationWarning: `should_run_async` will not call `transform_cell` automatically in the future. Please pass the result to `transformed_cell` argument and any exception that happen during thetransform in `preprocessing_exc_tuple` in IPython 7.17 and above.\n",
            "  and should_run_async(code)\n"
          ]
        }
      ]
    },
    {
      "cell_type": "markdown",
      "source": [
        "## Network Structure (10 points)\n",
        "For constructing SAC agent, we use objects of feedforward neural networks with 3 layers. Complete the code below."
      ],
      "metadata": {
        "id": "_whWTLZejkm3"
      }
    },
    {
      "cell_type": "code",
      "source": [
        "class Network(torch.nn.Module):\n",
        "\n",
        "    def __init__(self, input_dimension, output_dimension, output_activation=torch.nn.Identity()):\n",
        "        super(Network, self).__init__()\n",
        "        ##########################################################\n",
        "        # TODO\n",
        "        self.fc1 = nn.Linear(input_dimension,64)\n",
        "        self.fc2 = nn.Linear(64,128)\n",
        "        self.fc3 = nn.Linear(128,output_dimension)\n",
        "        self.output_activation = output_activation\n",
        "        ##########################################################\n",
        "\n",
        "    def forward(self, inpt):\n",
        "        output = None\n",
        "        ##########################################################\n",
        "        # TODO\n",
        "        output = torch.relu(self.fc1(inpt))\n",
        "        output = torch.relu(self.fc2(output))\n",
        "        output = self.output_activation(self.fc3(output))\n",
        "        ##########################################################\n",
        "\n",
        "        return output"
      ],
      "metadata": {
        "id": "4pxOyt0xh4nN",
        "execution": {
          "iopub.status.busy": "2024-07-10T23:07:46.444696Z",
          "iopub.execute_input": "2024-07-10T23:07:46.445142Z",
          "iopub.status.idle": "2024-07-10T23:07:46.502476Z",
          "shell.execute_reply.started": "2024-07-10T23:07:46.445066Z",
          "shell.execute_reply": "2024-07-10T23:07:46.501341Z"
        },
        "trusted": true
      },
      "execution_count": null,
      "outputs": []
    },
    {
      "cell_type": "markdown",
      "source": [
        "## Replay Buffer\n",
        "\n",
        "A SAC agent requires a replay buffer to sample previously visited states. You can utilize the implemented code below to set up this replay buffer."
      ],
      "metadata": {
        "id": "DToSGdmDka1u"
      }
    },
    {
      "cell_type": "code",
      "source": [
        "import numpy as np\n",
        "\n",
        "\n",
        "class ReplayBuffer:\n",
        "\n",
        "    def __init__(self, environment, capacity=500000):\n",
        "        transition_type_str = self.get_transition_type_str(environment)\n",
        "        self.buffer = np.zeros(capacity, dtype=transition_type_str)\n",
        "        self.weights = np.zeros(capacity)\n",
        "        self.head_idx = 0\n",
        "        self.count = 0\n",
        "        self.capacity = capacity\n",
        "        self.max_weight = 1e-2\n",
        "        self.delta = 1e-4\n",
        "        self.indices = None\n",
        "        self.mirror_index = np.random.permutation(range(self.buffer.shape[0]))\n",
        "\n",
        "    def get_transition_type_str(self, environment):\n",
        "        state_dim = environment.observation_space.shape[0]\n",
        "        state_dim_str = '' if state_dim == () else str(state_dim)\n",
        "        state_type_str = environment.observation_space.sample().dtype.name\n",
        "        action_dim = environment.action_space.shape\n",
        "        action_dim_str = '' if action_dim == () else str(action_dim)\n",
        "        action_type_str = environment.action_space.sample().__class__.__name__\n",
        "\n",
        "        transition_type_str = '{0}{1}, {2}{3}, float32, {0}{1}, bool'.format(state_dim_str, state_type_str,\n",
        "                                                                             action_dim_str, action_type_str)\n",
        "\n",
        "        return transition_type_str\n",
        "\n",
        "    def add_transition(self, transition):\n",
        "        self.buffer[self.head_idx] = transition\n",
        "        self.weights[self.head_idx] = self.max_weight\n",
        "\n",
        "        self.head_idx = (self.head_idx + 1) % self.capacity\n",
        "        self.count = min(self.count + 1, self.capacity)\n",
        "\n",
        "    def sample_minibatch(self, size=100, batch_deterministic_start=None):\n",
        "        set_weights = self.weights[:self.count] + self.delta\n",
        "        probabilities = set_weights / sum(set_weights)\n",
        "        if batch_deterministic_start is None:\n",
        "            self.indices = np.random.choice(range(self.count), size, p=probabilities, replace=False)\n",
        "        else:\n",
        "            self.indices = self.mirror_index[batch_deterministic_start:batch_deterministic_start+size]\n",
        "        return self.buffer[self.indices]\n",
        "\n",
        "    def update_weights(self, prediction_errors):\n",
        "        max_error = max(prediction_errors)\n",
        "        self.max_weight = max(self.max_weight, max_error)\n",
        "        self.weights[self.indices] = prediction_errors\n",
        "\n",
        "    def get_size(self):\n",
        "        return self.count"
      ],
      "metadata": {
        "id": "UC7jTwJXh8wl",
        "execution": {
          "iopub.status.busy": "2024-07-10T23:07:46.504295Z",
          "iopub.execute_input": "2024-07-10T23:07:46.504762Z",
          "iopub.status.idle": "2024-07-10T23:07:46.519298Z",
          "shell.execute_reply.started": "2024-07-10T23:07:46.504720Z",
          "shell.execute_reply": "2024-07-10T23:07:46.517990Z"
        },
        "trusted": true
      },
      "execution_count": null,
      "outputs": []
    },
    {
      "cell_type": "markdown",
      "source": [
        "## SAC Agent (50 points)"
      ],
      "metadata": {
        "id": "5wOrt_EmfFFD"
      }
    },
    {
      "cell_type": "markdown",
      "source": [
        "Now complete the following class. You can use the auxiliary methods provided in the class."
      ],
      "metadata": {
        "id": "ScEk94Ubb01W"
      }
    },
    {
      "cell_type": "code",
      "source": [
        "class SACAgent:\n",
        "  def __init__(self, environment, replay_buffer=None, offline=False, learning_rate=3e-4, discount=0.99, buffer_batch_size=100, alpha_init=1, interpolation_factor=0.01, device= 'cpu', update_we = False):\n",
        "    self.environment = environment\n",
        "    self.state_dim = self.environment.observation_space.shape[0]\n",
        "    self.action_dim = self.environment.action_space.n\n",
        "    self.device = device\n",
        "    self.alpha_init = alpha_init\n",
        "    self.learning_rate = learning_rate\n",
        "    self.actor_lr = learning_rate*3/10\n",
        "    self.discount = discount\n",
        "    self.buffer_batch_size = buffer_batch_size\n",
        "    self.interpolation_factor = interpolation_factor\n",
        "\n",
        "    self.replay_buffer = ReplayBuffer(self.environment) if replay_buffer is None else replay_buffer\n",
        "    self.offline = offline\n",
        "\n",
        "    self.update_we = update_we\n",
        "\n",
        "    ##########################################################\n",
        "    # TODO\n",
        "    # Define critics usig your implemented feed forward netwrok\n",
        "    ##########################################################\n",
        "    self.critic_local = Network(self.state_dim, self.action_dim).to(device)\n",
        "    self.critic_local2 = Network(self.state_dim, self.action_dim).to(device)\n",
        "    self.critic_optimiser = optim.Adam(self.critic_local.parameters(), lr=self.learning_rate)\n",
        "    self.critic_optimiser2 = optim.Adam(self.critic_local2.parameters(), lr=self.learning_rate)\n",
        "    self.critic_target = Network(self.state_dim, self.action_dim).to(device)\n",
        "    self.critic_target2 = Network(self.state_dim, self.action_dim).to(device)\n",
        "    ##########################################################\n",
        "\n",
        "    self.soft_update_target_networks(tau=1.)\n",
        "\n",
        "    ##########################################################\n",
        "    # TODO\n",
        "    # Define the actor\n",
        "    # Define the actor optimizer\n",
        "    ##########################################################\n",
        "    self.actor_local = Network(self.state_dim, self.action_dim, output_activation=torch.nn.Softmax(dim=1)).to(device)\n",
        "    self.actor_optimiser  = optim.Adam(self.actor_local.parameters(), lr=self.actor_lr)\n",
        "    ##########################################################\n",
        "    self.target_entropy = 0.98 * -np.log(1 / self.environment.action_space.n)\n",
        "    self.log_alpha = torch.tensor(np.log(self.alpha_init), requires_grad=True)\n",
        "    self.alpha = self.log_alpha\n",
        "    self.alpha_optimiser = torch.optim.Adam([self.log_alpha], lr=self.learning_rate)\n",
        "\n",
        "  def get_next_action(self, state, evaluation_episode=False):\n",
        "    if evaluation_episode:\n",
        "        discrete_action = self.get_action_deterministically(state)\n",
        "    else:\n",
        "        discrete_action = self.get_action_nondeterministically(state)\n",
        "    return discrete_action\n",
        "\n",
        "  def get_action_nondeterministically(self, state):\n",
        "    action_probabilities = self.get_action_probabilities(state)\n",
        "    discrete_action = np.random.choice(range(self.action_dim), p=action_probabilities)\n",
        "    return discrete_action\n",
        "\n",
        "  def get_action_deterministically(self, state):\n",
        "    action_probabilities = self.get_action_probabilities(state)\n",
        "    discrete_action = np.argmax(action_probabilities)\n",
        "    return discrete_action\n",
        "\n",
        "  def critic_loss(self, states_tensor, actions_tensor, rewards_tensor,\n",
        "                  next_states_tensor, done_tensor):\n",
        "    ##########################################################\n",
        "    # TODO\n",
        "    # You are going to calculate critic losses in this method\n",
        "    ##########################################################\n",
        "    with torch.no_grad():\n",
        "      next_actions, log_action_probabilities = self.get_action_info(next_states_tensor)\n",
        "      next_q_values = self.predict_next_q_values(next_states_tensor)\n",
        "      soft_Values = torch.sum(next_actions * (next_q_values - self.alpha * log_action_probabilities), dim=1)\n",
        "      target_q_values = rewards_tensor + self.discount * (~done_tensor) * soft_Values\n",
        "\n",
        "    q_values = self.critic_local(states_tensor).gather(1, actions_tensor.unsqueeze(-1)).squeeze(-1)\n",
        "    q_values2 = self.critic_local2(states_tensor).gather(1, actions_tensor.unsqueeze(-1)).squeeze(-1)\n",
        "    critic_loss = F.mse_loss(q_values, target_q_values)\n",
        "    critic2_loss = F.mse_loss(q_values2, target_q_values)\n",
        "    return critic_loss, critic2_loss\n",
        "      ##########################################################\n",
        "\n",
        "  def actor_loss(self, states_tensor):\n",
        "    ##########################################################\n",
        "    # TODO\n",
        "    # Implement the actor loss\n",
        "    next_actions, log_action_probabilities = self.get_action_info(states_tensor)\n",
        "    q_values = self.predict_q_values(states_tensor)\n",
        "    actor_loss = torch.sum(next_actions * (self.alpha * log_action_probabilities - q_values)).mean()\n",
        "    ##########################################################\n",
        "    return actor_loss, log_action_probabilities\n",
        "    ##########################################################\n",
        "\n",
        "  def train_on_transition(self, state, discrete_action, next_state, reward, done):\n",
        "    transition = (state, discrete_action, reward, next_state, done)\n",
        "    self.train_networks(transition)\n",
        "\n",
        "  def train_networks(self, transition=None, batch_deterministic_start=None):\n",
        "    ##########################################################\n",
        "    # TODO\n",
        "    # Set all the gradients stored in the optimizers to zero\n",
        "    # Add the new transition to the replay buffer for online case\n",
        "    ##########################################################\n",
        "    self.critic_optimiser.zero_grad()\n",
        "    self.critic_optimiser2.zero_grad()\n",
        "    self.actor_optimiser.zero_grad()\n",
        "    self.alpha_optimiser.zero_grad()\n",
        "\n",
        "    if not self.offline:\n",
        "        self.replay_buffer.add_transition(transition)\n",
        "    if self.replay_buffer.get_size() >= self.buffer_batch_size:\n",
        "      minibatch = self.replay_buffer.sample_minibatch(self.buffer_batch_size, batch_deterministic_start=batch_deterministic_start)\n",
        "      minibatch_separated = list(map(list, zip(*minibatch)))\n",
        "\n",
        "      states_tensor = torch.tensor(np.array(minibatch_separated[0])).to(self.device)\n",
        "      actions_tensor = torch.tensor(np.array(minibatch_separated[1])).to(self.device)\n",
        "      rewards_tensor = torch.tensor(np.array(minibatch_separated[2])).float().to(self.device)\n",
        "      next_states_tensor = torch.tensor(np.array(minibatch_separated[3])).to(self.device)\n",
        "      done_tensor = torch.tensor(np.array(minibatch_separated[4])).to(self.device)\n",
        "\n",
        "      ##########################################################\n",
        "      # TODO\n",
        "      # compute the critic loss and perform the backpropagation,\n",
        "      critic_loss, critic2_loss = self.critic_loss(states_tensor, actions_tensor, rewards_tensor, next_states_tensor, done_tensor)\n",
        "      critic_loss.backward()\n",
        "      critic2_loss.backward()\n",
        "      self.critic_optimiser.step()\n",
        "      self.critic_optimiser2.step()\n",
        "      # then compute the actor loss and backpropagate the gradient on it\n",
        "      actor_loss, log_action_probabilities = self.actor_loss(states_tensor)\n",
        "      actor_loss.backward()\n",
        "      self.actor_optimiser.step()\n",
        "      # You also need to update \\alpha\n",
        "      alpha_loss = self.temperature_loss(log_action_probabilities)\n",
        "      alpha_loss.backward()\n",
        "      self.alpha_optimiser.step()\n",
        "      ##########################################################\n",
        "\n",
        "      # update the weights in the replay buffer to learn on data wich are causing more loss\n",
        "      if self.update_we:\n",
        "        updated_buffer_weights = [\n",
        "            min(loss1.item(), loss2.item()) for loss1, loss2\n",
        "            in zip(critic_loss.unsqueeze(-1), critic2_loss.unsqueeze(-1))\n",
        "        ]\n",
        "        self.replay_buffer.update_weights(updated_buffer_weights)\n",
        "\n",
        "      self.soft_update_target_networks(self.interpolation_factor)\n",
        "\n",
        "  def temperature_loss(self, log_action_probabilities):\n",
        "    alpha_loss = -(self.log_alpha * (log_action_probabilities + self.target_entropy).detach()).mean()\n",
        "    return alpha_loss\n",
        "\n",
        "  def get_action_info(self, states_tensor):\n",
        "    action_probabilities = self.actor_local.forward(states_tensor)\n",
        "    z = action_probabilities == 0.0\n",
        "    z = z.float() * 1e-8\n",
        "    log_action_probabilities = torch.log(action_probabilities + z)\n",
        "    return action_probabilities, log_action_probabilities\n",
        "\n",
        "  def get_action_probabilities(self, state):\n",
        "    state_tensor = torch.tensor(state, dtype=torch.float32).unsqueeze(0).to(self.device)\n",
        "    action_probabilities = self.actor_local.forward(state_tensor).to(\"cpu\")\n",
        "    return action_probabilities.squeeze(0).detach().numpy()\n",
        "\n",
        "  def soft_update_target_networks(self, tau):\n",
        "    self.soft_update(self.critic_target, self.critic_local, tau)\n",
        "    self.soft_update(self.critic_target2, self.critic_local2, tau)\n",
        "\n",
        "  def soft_update(self, target_model, origin_model, tau):\n",
        "    for target_param, local_param in zip(target_model.parameters(), origin_model.parameters()):\n",
        "        target_param.data.copy_(tau * local_param.data + (1 - tau) * target_param.data)\n",
        "\n",
        "  def predict_next_q_values(self, state):\n",
        "    q_values = self.critic_target(state)\n",
        "    q_values2 = self.critic_target2(state)\n",
        "    return torch.min(q_values, q_values2)\n",
        "\n",
        "  def predict_q_values(self, state):\n",
        "    q_values = self.critic_local(state)\n",
        "    q_values2 = self.critic_local2(state)\n",
        "    return torch.min(q_values, q_values2)"
      ],
      "metadata": {
        "id": "A8bEgUc2hmet",
        "execution": {
          "iopub.status.busy": "2024-07-10T23:07:46.521412Z",
          "iopub.execute_input": "2024-07-10T23:07:46.521849Z",
          "iopub.status.idle": "2024-07-10T23:07:46.658794Z",
          "shell.execute_reply.started": "2024-07-10T23:07:46.521817Z",
          "shell.execute_reply": "2024-07-10T23:07:46.657535Z"
        },
        "trusted": true
      },
      "execution_count": 74,
      "outputs": []
    },
    {
      "cell_type": "markdown",
      "source": [
        "## Online SAC (10 points)"
      ],
      "metadata": {
        "id": "X7Tx4pS_kdo-"
      }
    },
    {
      "cell_type": "markdown",
      "source": [
        "Now evaluate your model in CartPole environment in the online setting. After each 4 episodes, you should evaluate your model on a separate test environment. Run your model 4 times separately and plot the mean and deviation of the evaluation curves.\n",
        "\n",
        "**NOTE:** Since you are going to use the replay buffer of this agent as the offline dataset, you may want to save it for later use."
      ],
      "metadata": {
        "id": "jUm9_qfAlvf_"
      }
    },
    {
      "cell_type": "code",
      "source": [
        "def train_sac_agent(env, agent, replay_buffer, episodes_per_run, steps_per_episode, training_evaluation_ratio):\n",
        "    results = []\n",
        "    for episode in tqdm(range(episodes_per_run), desc='Training Episodes'):\n",
        "        evaluate = episode % training_evaluation_ratio == 0\n",
        "        running_reward = 0\n",
        "        state = env.reset()\n",
        "        done = False\n",
        "\n",
        "        for step in range(steps_per_episode):\n",
        "            if done:\n",
        "                break\n",
        "\n",
        "            action = agent.get_next_action(state, evaluate)\n",
        "            next_state, reward, done, _ = env.step(action)\n",
        "\n",
        "            replay_buffer.add_transition((state, action, reward, next_state, done))\n",
        "\n",
        "            if evaluate:\n",
        "                running_reward += reward\n",
        "            else:\n",
        "                agent.train_on_transition(state, action, next_state, reward, done)\n",
        "            state = next_state\n",
        "\n",
        "        if evaluate:\n",
        "            results.append(running_reward)\n",
        "    return results"
      ],
      "metadata": {
        "execution": {
          "iopub.status.busy": "2024-07-10T23:07:46.660128Z",
          "iopub.execute_input": "2024-07-10T23:07:46.660553Z",
          "iopub.status.idle": "2024-07-10T23:07:46.674864Z",
          "shell.execute_reply.started": "2024-07-10T23:07:46.660518Z",
          "shell.execute_reply": "2024-07-10T23:07:46.673656Z"
        },
        "trusted": true,
        "id": "ggTU-69358FS"
      },
      "execution_count": null,
      "outputs": []
    },
    {
      "cell_type": "code",
      "source": [
        "import jax.dlpack\n",
        "TRAINING_EVALUATION_RATIO = 4\n",
        "EPISODES_PER_RUN = 500\n",
        "STEPS_PER_EPISODE = 200\n",
        "env = gym.make(\"CartPole-v1\")\n",
        "\n",
        "##########################################################\n",
        "# TODO\n",
        "# Implement the training loop for the online SAC.\n",
        "# After each epoch, run validation\n",
        "# and plot the mean return over these\n",
        "# episodes in the end\n",
        "# Plot the learning curves\n",
        "##########################################################\n",
        "replay_buffer = ReplayBuffer(env)\n",
        "agents_results = []\n",
        "\n",
        "for run in range(4):\n",
        "    agent = SACAgent(env, device = \"cpu\")\n",
        "    result_agent = train_sac_agent(env, agent, replay_buffer, EPISODES_PER_RUN, STEPS_PER_EPISODE, TRAINING_EVALUATION_RATIO)\n",
        "    agents_results.append(result_agent)\n",
        "    print(\"mean reward : {}\".format(np.mean(agents_results)))\n",
        "\n",
        "env.close()"
      ],
      "metadata": {
        "colab": {
          "base_uri": "https://localhost:8080/"
        },
        "id": "c6quXtBzZ6nZ",
        "outputId": "12922372-2631-422c-ead0-0e130c2a044b",
        "execution": {
          "iopub.status.busy": "2024-07-10T23:07:46.676693Z",
          "iopub.execute_input": "2024-07-10T23:07:46.677221Z"
        },
        "trusted": true
      },
      "execution_count": null,
      "outputs": [
        {
          "output_type": "stream",
          "name": "stderr",
          "text": [
            "/usr/local/lib/python3.10/dist-packages/gym/core.py:317: DeprecationWarning: \u001b[33mWARN: Initializing wrapper in old step API which returns one bool instead of two. It is recommended to set `new_step_api=True` to use new step API. This will be the default behaviour in future.\u001b[0m\n",
            "  deprecation(\n",
            "/usr/local/lib/python3.10/dist-packages/gym/wrappers/step_api_compatibility.py:39: DeprecationWarning: \u001b[33mWARN: Initializing environment in old step API which returns one bool instead of two. It is recommended to set `new_step_api=True` to use new step API. This will be the default behaviour in future.\u001b[0m\n",
            "  deprecation(\n",
            "Training Episodes: 100%|██████████| 500/500 [18:55<00:00,  2.27s/it]\n"
          ]
        },
        {
          "output_type": "stream",
          "name": "stdout",
          "text": [
            "mean reward : 168.952\n"
          ]
        },
        {
          "output_type": "stream",
          "name": "stderr",
          "text": [
            "Training Episodes: 100%|██████████| 500/500 [19:38<00:00,  2.36s/it]\n"
          ]
        },
        {
          "output_type": "stream",
          "name": "stdout",
          "text": [
            "mean reward : 171.252\n"
          ]
        },
        {
          "output_type": "stream",
          "name": "stderr",
          "text": [
            "Training Episodes: 100%|██████████| 500/500 [17:32<00:00,  2.11s/it]\n"
          ]
        },
        {
          "output_type": "stream",
          "name": "stdout",
          "text": [
            "mean reward : 167.86933333333334\n"
          ]
        },
        {
          "output_type": "stream",
          "name": "stderr",
          "text": [
            "Training Episodes: 100%|██████████| 500/500 [19:18<00:00,  2.32s/it]"
          ]
        },
        {
          "output_type": "stream",
          "name": "stdout",
          "text": [
            "mean reward : 168.352\n"
          ]
        },
        {
          "output_type": "stream",
          "name": "stderr",
          "text": [
            "\n"
          ]
        }
      ]
    },
    {
      "cell_type": "code",
      "source": [
        "print('Number of batches: ',replay_buffer.get_size() // EPISODES_PER_RUN)"
      ],
      "metadata": {
        "colab": {
          "base_uri": "https://localhost:8080/"
        },
        "id": "Z7qwa7ysA_dF",
        "outputId": "98c7a902-f8b6-42a2-eb9c-544836fe6145"
      },
      "execution_count": null,
      "outputs": [
        {
          "output_type": "stream",
          "name": "stdout",
          "text": [
            "Number of batches:  674\n"
          ]
        }
      ]
    },
    {
      "cell_type": "code",
      "source": [
        "episodes = np.arange(len(agents_results[0]))\n",
        "\n",
        "mean_values = np.mean(agents_results, axis=0)\n",
        "std_values = np.std(agents_results, axis=0)\n",
        "\n",
        "plt.figure(figsize=(12, 6))\n",
        "plt.plot(episodes, mean_values, label='Mean Sum of Rewards', color='k')\n",
        "plt.fill_between(episodes, mean_values - std_values, mean_values + std_values,\n",
        "                 color='gray', alpha=0.5, label='Standard Deviation')\n",
        "plt.xlabel('Episodes')\n",
        "plt.ylabel('Reward')\n",
        "plt.title('Online SAC on CartPole-v1')\n",
        "plt.legend()\n",
        "plt.grid(True)\n",
        "plt.show()"
      ],
      "metadata": {
        "trusted": true,
        "id": "FB95_pa558FS",
        "colab": {
          "base_uri": "https://localhost:8080/",
          "height": 564
        },
        "outputId": "3f1b1ba7-d350-40fe-ffb7-fa4260a867fe"
      },
      "execution_count": null,
      "outputs": [
        {
          "output_type": "display_data",
          "data": {
            "text/plain": [
              "<Figure size 1200x600 with 1 Axes>"
            ],
            "image/png": "[encoded data removed]"
          },
          "metadata": {}
        }
      ]
    },
    {
      "cell_type": "code",
      "source": [
        "env = gym.make(\"CartPole-v1\", render_mode=\"rgb_array\")\n",
        "frames = []\n",
        "\n",
        "state = env.reset()\n",
        "for _ in range(100):\n",
        "    # state = torch.tensor(state).unsqueeze(0)\n",
        "    frames.append(env.render()[0])\n",
        "    action = agent.get_next_action(state, evaluation_episode=True)\n",
        "    state, reward, done, info = env.step(action)\n",
        "    if done:\n",
        "        break\n",
        "\n",
        "\n",
        "env.close()\n",
        "imageio.mimsave('./online.mp4', frames, fps=25)\n",
        "show_video('./online.mp4')"
      ],
      "metadata": {
        "id": "Ge2uIJtGzGUW",
        "trusted": true,
        "colab": {
          "base_uri": "https://localhost:8080/",
          "height": 356
        },
        "outputId": "448c4ba0-59ae-495f-9e8f-53f7153844d5"
      },
      "execution_count": null,
      "outputs": [
        {
          "output_type": "stream",
          "name": "stderr",
          "text": [
            "WARNING:imageio_ffmpeg:IMAGEIO FFMPEG_WRITER WARNING: input image is not divisible by macro_block_size=16, resizing from (600, 400) to (608, 400) to ensure video compatibility with most codecs and players. To prevent resizing, make your input image divisible by the macro_block_size or set the macro_block_size to 1 (risking incompatibility).\n",
            "/usr/lib/python3.10/subprocess.py:1796: RuntimeWarning: os.fork() was called. os.fork() is incompatible with multithreaded code, and JAX is multithreaded, so this will likely lead to a deadlock.\n",
            "  self.pid = _posixsubprocess.fork_exec(\n"
          ]
        },
        {
          "output_type": "execute_result",
          "data": {
            "text/plain": [
              "<IPython.core.display.HTML object>"
            ],
            "text/html": [
              "\n",
              "    <video width=400 controls>\n",
              "          <source src=\"data:video/mp4;base64,AAAAIGZ0eXBpc29tAAACAGlzb21pc28yYXZjMW1wNDEAAAAIZnJlZQAAE59tZGF0AAACrgYF//+q3EXpvebZSLeWLNgg2SPu73gyNjQgLSBjb3JlIDE1OSByMjk5MSAxNzcxYjU1IC0gSC4yNjQvTVBFRy00IEFWQyBjb2RlYyAtIENvcHlsZWZ0IDIwMDMtMjAxOSAtIGh0dHA6Ly93d3cudmlkZW9sYW4ub3JnL3gyNjQuaHRtbCAtIG9wdGlvbnM6IGNhYmFjPTEgcmVmPTMgZGVibG9jaz0xOjA6MCBhbmFseXNlPTB4MzoweDExMyBtZT1oZXggc3VibWU9NyBwc3k9MSBwc3lfcmQ9MS4wMDowLjAwIG1peGVkX3JlZj0xIG1lX3JhbmdlPTE2IGNocm9tYV9tZT0xIHRyZWxsaXM9MSA4eDhkY3Q9MSBjcW09MCBkZWFkem9uZT0yMSwxMSBmYXN0X3Bza2lwPTEgY2hyb21hX3FwX29mZnNldD0tMiB0aHJlYWRzPTMgbG9va2FoZWFkX3RocmVhZHM9MSBzbGljZWRfdGhyZWFkcz0wIG5yPTAgZGVjaW1hdGU9MSBpbnRlcmxhY2VkPTAgYmx1cmF5X2NvbXBhdD0wIGNvbnN0cmFpbmVkX2ludHJhPTAgYmZyYW1lcz0zIGJfcHlyYW1pZD0yIGJfYWRhcHQ9MSBiX2JpYXM9MCBkaXJlY3Q9MSB3ZWlnaHRiPTEgb3Blbl9nb3A9MCB3ZWlnaHRwPTIga2V5aW50PTI1MCBrZXlpbnRfbWluPTI1IHNjZW5lY3V0PTQwIGludHJhX3JlZnJlc2g9MCByY19sb29rYWhlYWQ9NDAgcmM9Y3JmIG1idHJlZT0xIGNyZj0yMy4wIHFjb21wPTAuNjAgcXBtaW49MCBxcG1heD02OSBxcHN0ZXA9NCBpcF9yYXRpbz0xLjQwIGFxPTE6MS4wMACAAAACLGWIhAA7//73Tr8Cm0WXagOSVwr2yqQmWblSawHypgAAAwAAAwAAAwLa9HiTO+TU8TYAAAMBBwAoYVMRISAUsbwqBK8j/A6zyBkQ7GgDCl7r6QZ4UzKa8cuF0oUpb4XFhZqovdLkhBnMGfpLx2anA+73eBIoBXCmYeqd89R0eKOiY1hb+8lxusGGQLQpN3wQ/x3F7K58Yfe8SBL4JmTwR5d5A0kQ6U8ZtYRUo/6mgBRO5umCLJBg82omZwgLsH96WuxDwghj42nvtTdHLn9N0kFl4ddhx/UVoFnVD5Wy8b6Bar8Sh0zlu04iFgFIVD74S5wt8Jat2fEeAWQbAq7sJllB7dETHoVE4wmn2UovYg4pLp64HfNZCnhSB/R8uXsa78LSgtIOCmRnjWLCrXSMjDZ3H9lvk4Ls0La3bm6F5HZLmmEHwqxHQ1fXU/zvhRZdx2nHv/379jZ4nfc1x1cEraqo9OJqi4har9b4UOOglaVBH3wFOB+s9KsAZbPQPaGMowBf2qwjxVo0lX6YZgMMc0+uaUBzjHrjmV/X7QJlEYwnXW1mF+j0qWFDoC8AdvHO6Eu0kSM8bidloRx9CR6dTXEEm+xaebVRgR6kbhbRhEU4AbhLrSWWKzt/ART9Benu0PxQ7FAnaKcn/tBDxABiW99WYEH1luV0YsdxQdlMpGBU8WDCiBzlq8sDuKMPDR3GSIELVqaLqPKPZnfr5Z74BxqW2BkIAAADAAADAV0AAACEQZokbEO//qmWAAADA2nrmy9rA/xrj5UASVUMBK/6WiLWWpahOcgeKt50jG9ccdvze1gTMgYUsCJCLMjPXHQU/1yjdwJ1oPCcxQgw6lRa3BJ3bsG5TStQs5bRGSAVwGTgX7Opf/eZcz2mrUpTGKnD55osjzM1oswNYCSvRnva2cPv0f2AAAAAMEGeQniF/wAAAwF+DP/cnI4BRmAA1YF4Orqml5dwoyLI9bbaEdxw7F1mEKIRgOs/ZwAAACABnmF0Qr8AAAWLJCllT7p2rbJO1lfy7mjU6RW4ItiDPgAAACABnmNqQr8AAAMAyTpRtQ5QB6ELXcAS23+gPj4oV3cFgQAAAIZBmmhJqEFomUwId//+qZYAAAMDUtq7oAjrt46JCZNQt/INJ9nH8OBY7EkI6K93pdIV1FVQ4WfawN58arQmKUNmea+R93R5O0zQAy11L2lKrOiSGbc11RnkRbrrv5ktCl5voLwueMjJw+DoTEScC0I3x1sXf7dhRYGRyoLYtU9aN09zsF7r6QAAACBBnoZFESwv/wAAAwF+U4F5eTVV8qB+MsgNKk19a7TLnwAAAA8BnqV0Qr8AAAMAAAMArYEAAAAeAZ6nakK/AAADAfxlGVj2t7LfHwU0XDTkkWoaW1PgAAAAG0GarEmoQWyZTAh3//6plgAAAwB0h3QofAB8wAAAABJBnspFFSwv/wAAAwAAZKIu+ysAAAAQAZ7pdEK/AAADAACGuhH9MAAAABABnutqQr8AAAMAAIbr8/0wAAAAIUGa8EmoQWyZTAh3//6plgAAAwAAW/sAIDHskZnAfNrCwQAAABJBnw5FFSwv/wAAAwAAZKIu+ysAAAAQAZ8tdEK/AAADAACGuhH9MQAAABABny9qQr8AAAMAAIbr8/0wAAAAGEGbNEmoQWyZTAh3//6plgAAAwAAAwBqwAAAABJBn1JFFSwv/wAAAwAAZKIu+ysAAAAQAZ9xdEK/AAADAACGuhH9MAAAABABn3NqQr8AAAMAAIbr8/0wAAAAGEGbeEmoQWyZTAh3//6plgAAAwAAAwBqwQAAAC9Bn5ZFFSwv/wAAAwF52UWS7FWPxNHr0niOW/+MAAnE7bdNsHWdVxWC+FCGWWbjegAAABwBn7V0Qr8AAAMAxEd50SqxPJeOA8K3CEmzPZO3AAAAHQGft2pCvwAAAwDEOlzmBVldzQ8k2kF0l8wFd7ZhAAAAUUGbvEmoQWyZTAh3//6plgAAAwFBCdZEbkedpV9jLA+IAgZHcqVnMQE8PFdoWDR+TGGlcrsP67zFIgG2YjlDTxyWiuJ2AKPeDRpZyS+UHlIXwAAAAB5Bn9pFFSwv/wAAAwF+DP/cmSZCSSqhVJriAeV01s0AAAAcAZ/5dEK/AAADAMRHedEqsTyXjgPCtwhJsz2TtwAAAA8Bn/tqQr8AAAMAAAMArYEAAAAYQZvgSahBbJlMCHf//qmWAAADAAADAGrBAAAAEUGeHkUVLC//AAADAAADAHzAAAAADwGePXRCvwAAAwAAAwCtgAAAAA8Bnj9qQr8AAAMAAAMArYEAAAAYQZokSahBbJlMCHf//qmWAAADAAADAGrAAAAALEGeQkUVLC//AAAKypI1DBJ5bFzqn7VHY2gBut8BnXx9YiD0/iqbaQ8IiMWBAAAAGwGeYXRCvwAADoQ3JgGQVlOCAbGi6CajxkNCNgAAABsBnmNqQr8AAA6DJKt8vdN/Osjt9RnH4hgIZ8EAAAA0QZpoSahBbJlMCHf//qmWAAAJAqZmitICXQ92h4cItkdeKz35IAwM5kMYkOXbxPECJIgNSQAAAD1BnoZFFSwv/wAACszwFHBxOdt1HoR8JloSoPbOAG63IMxpblwwRU7+3OfFmPMh+Y08eOG37zWBNhLsxJ4NAAAAIQGepXRCvwAADoFxjSBi5fbhTUwr809j118ZAw3MmW1RgQAAACMBnqdqQr8AAA6DJKt8vdN/OsjGDeflQMDcbE9ZDTvwbAg5IAAAAFBBmqxJqEFsmUwId//+qZYAAAMBQYDP2yAErCbNuZDCbGOlce58SEebWog0l6gFV9vu9rzlBbTnrgktQF39gkR54PuPfBVsqvclzXzfegIfMAAAACtBnspFFSwv/wAAAwPjC2piAEtrkCN3bhYSGIAN1qY4cX6r0GVWiFR5RpJhAAAAHQGe6XRCvwAAAwH8h8CINicOfJAEpzGSvrqdEtbMAAAAFwGe62pCvwAABWa/uevSHOczfDIDRxgwAAAALUGa8EmoQWyZTAh3//6plgAAAwNRcnhAC33Q2asEd9yVlTWTz4dS5MSmPbyFxQAAACNBnw5FFSwv/wAAAwF+cX0/fKrPxzj40cuMNBtJgCSY4bjeDQAAACIBny10Qr8AAAVmLvzyv4tOYHBAmfDSi/iFAPPdsnZpd+knAAAAHQGfL2pCvwAAAwH8ZRlY9rey3x8FNFw05JFqMRJMAAAAHkGbNEmoQWyZTAh3//6plgAAAwAvHuJS9rEh9fXC8gAAABRBn1JFFSwv/wAAAwA3QZ/68P1FBQAAABIBn3F0Qr8AAAMAS10HESw1Qu4AAAAPAZ9zakK/AAADAAADAK2AAAAAWUGbeEmoQWyZTAh3//6plgAAAwFJvXZAKORvd4AIU4baWLlzAVVbEsAjVkTELoq23rq+7TUHni5Q/bwT8dUHnaIlR4m76dr6zc6u5YJ7XMKfC+CpMpywMSVNAAAAH0GflkUVLC//AAADAYhTgXivtYCTY2jd4p4DVSWo22YAAAAPAZ+1dEK/AAADAAADAK2BAAAAHQGft2pCvwAAAwILr8beOdgf6Dx4bmRIsZRfkbZhAAAAPkGbvEmoQWyZTAh3//6plgAACQFcFwA1oPjwtGurdz5cPRTjb6T/UoN8nuGlEEH88B1mLihFa/XHSw/urfGAAAAAMkGf2kUVLC//AAAKywacV+FK2T82h6SbaMAN1vguQsjoVEFl+UQgoF6o6pipiVrgFK25AAAAIQGf+XRCvwAADoQ3Jgfg32wlgFoS1JEUgcU27FuJEBuSYAAAACABn/tqQr8AAAMAxDpc5ghOX1uqxKuuVWsY7QbglXrbgQAAABhBm+BJqEFsmUwId//+qZYAAAMAAAMAasEAAAAlQZ4eRRUsL/8AAAMBfoi6+K2lW11CqLjEpMeqzWCb6S6+4XYkmAAAABwBnj10Qr8AAAMB/IfAiDP975UnQ+P7z397NgWzAAAAHQGeP2pCvwAAAwDEOlzmCE5zVh5KVSL3tVH7LG8HAAAAVEGaJEmoQWyZTAh3//6plgAAAwFJvXZAKWWfcMAHxcrmEBy+AKEQJLIxOamiOtUlhrTNQoX8pbBQM99BCWJn1VObiHA+9psSH97BuJiKoZdRlgL/wAAAACBBnkJFFSwv/wAAAwGIU4F4r7WAk2No3eKeA1WCrJnC3QAAAA8BnmF0Qr8AAAMAAAMArYAAAAAeAZ5jakK/AAADAguvxt452B/oPHhuZEixmish7C3BAAAAKUGaaEmoQWyZTAh3//6plgAAAwAtxuL/YMK5HABdKF5jtQvFJxfwiCi5AAAAIkGehkUVLC//AAADAYiIuviC5JhXFbL4Gx09GkD/0nyk5s0AAAAfAZ6ldEK/AAADAgviFMxmmVhMu7l8ZymlUg1eht/FgQAAAB0BnqdqQr8AAAMCC6/G3jnYH+g8eG5kSLGUX5G2YAAAADdBmqxJqEFsmUwId//+qZYAAAkBXFiQcQC86+XFIqhYnRitL8LlkJrpL34cObefjFr57K/bsWkTAAAAO0GeykUVLC//AAAKywacV+FM9W321BQAXPuAMWazqKHAwGYPE8reZOEjWeuRguXytupRMPunGBGLc8GBAAAAHQGe6XRCvwAADoQ3Jgfg32wldYGLiUNYJMg+SSAgAAAAHgGe62pCvwAAAwDD9tasUNeOoAqayKP29Q1PqERbcAAAACxBmvBJqEFsmUwId//+qZYAAAMAd5aVbnwrEmBpqRHmwuGsp98psh8k+kb3QQAAACNBnw5FFSwv/wAACs2q6bKOqLkqlGA/d1qx4gOlg7w4C3qtmQAAACEBny10Qr8AAA6ENyYH4ODlZggQcFDEqC7v2ARK0v0dOSEAAAAgAZ8vakK/AAAOgA7FtaHD95laW7dGezaJhRYFbBNnICAAAAAxQZs0SahBbJlMCHf//qmWAAADAHdaiBACPLNixjrVa+MZyHaGiqOdnrO/uAEf5Wub3QAAAB5Bn1JFFSwv/wAAAwCOzr+PshCTsoWcSMY+zjT1tmEAAAAdAZ9xdEK/AAADAMRHediasEC3bFXbsNEp1WKu2YAAAAAPAZ9zakK/AAADAAADAK2AAAAAGEGbeEmoQWyZTAh3//6plgAAAwAAAwBqwQAAABFBn5ZFFSwv/wAAAwAAAwB8wAAAAA8Bn7V0Qr8AAAMAAAMArYEAAAAPAZ+3akK/AAADAAADAK2BAAAAGEGbvEmoQWyZTAhv//6nhAAAAwAAAwDUgAAAABFBn9pFFSwv/wAAAwAAAwB8wQAAAA8Bn/l0Qr8AAAMAAAMArYAAAAAcAZ/7akK/AAAOf2veCaZUeCMYN9YmEXaTDYIZ8QAAADFBm+BJqEFsmUwIZ//+nhAAAEVFBPccYb/aC2KaYw4AH7cA2/evQIjeuTlmgvqSeIVtAAAANEGeHkUVLC//AAAKzPAUcKqsdL/6F3pWgBbe4Dz6MnkmjK+ugp1O3C3X3LZK57CQcE6ZtuAAAAAiAZ49dEK/AAAOgXGNIGLmAnc6SYB9AQ9Eavvu5DrARfBSoAAAACEBnj9qQr8AAA6DJKt8vdN/Osjt9Tl47nwRVPDRKjDwkmEAAAAtQZojSahBbJlMCFf//jhAAAAOIau8T/sxrFYCs0sG6gZ+b6Gns2Fi9y8lxmTUAAAAIEGeQUUVLCv/AAADAfvMSKkbweXqBDjFjllcw8QXcsSTAAAAHAGeYmpCvwAAAwH8Ay2T1OCt/tY3C764kZ/CICAAAAe6bW9vdgAAAGxtdmhkAAAAAAAAAAAAAAAAAAAD6AAAD6AAAQAAAQAAAAAAAAAAAAAAAAEAAAAAAAAAAAAAAAAAAAABAAAAAAAAAAAAAAAAAABAAAAAAAAAAAAAAAAAAAAAAAAAAAAAAAAAAAAAAAAAAgAABuR0cmFrAAAAXHRraGQAAAADAAAAAAAAAAAAAAABAAAAAAAAD6AAAAAAAAAAAAAAAAAAAAAAAAEAAAAAAAAAAAAAAAAAAAABAAAAAAAAAAAAAAAAAABAAAAAAmAAAAGQAAAAAAAkZWR0cwAAABxlbHN0AAAAAAAAAAEAAA+gAAAEAAABAAAAAAZcbWRpYQAAACBtZGhkAAAAAAAAAAAAAAAAAAAyAAAAyABVxAAAAAAALWhkbHIAAAAAAAAAAHZpZGUAAAAAAAAAAAAAAABWaWRlb0hhbmRsZXIAAAAGB21pbmYAAAAUdm1oZAAAAAEAAAAAAAAAAAAAACRkaW5mAAAAHGRyZWYAAAAAAAAAAQAAAAx1cmwgAAAAAQAABcdzdGJsAAAAl3N0c2QAAAAAAAAAAQAAAIdhdmMxAAAAAAAAAAEAAAAAAAAAAAAAAAAAAAAAAmABkABIAAAASAAAAAAAAAABAAAAAAAAAAAAAAAAAAAAAAAAAAAAAAAAAAAAAAAAAAAAGP//AAAAMWF2Y0MBZAAe/+EAGGdkAB6s2UCYM6EAAAMAAQAAAwAyDxYtlgEABmjr48siwAAAABhzdHRzAAAAAAAAAAEAAABkAAACAAAAABRzdHNzAAAAAAAAAAEAAAABAAADKGN0dHMAAAAAAAAAYwAAAAEAAAQAAAAAAQAACgAAAAABAAAEAAAAAAEAAAAAAAAAAQAAAgAAAAABAAAKAAAAAAEAAAQAAAAAAQAAAAAAAAABAAACAAAAAAEAAAoAAAAAAQAABAAAAAABAAAAAAAAAAEAAAIAAAAAAQAACgAAAAABAAAEAAAAAAEAAAAAAAAAAQAAAgAAAAABAAAKAAAAAAEAAAQAAAAAAQAAAAAAAAABAAACAAAAAAEAAAoAAAAAAQAABAAAAAABAAAAAAAAAAEAAAIAAAAAAQAACgAAAAABAAAEAAAAAAEAAAAAAAAAAQAAAgAAAAABAAAKAAAAAAEAAAQAAAAAAQAAAAAAAAABAAACAAAAAAEAAAoAAAAAAQAABAAAAAABAAAAAAAAAAEAAAIAAAAAAQAACgAAAAABAAAEAAAAAAEAAAAAAAAAAQAAAgAAAAABAAAKAAAAAAEAAAQAAAAAAQAAAAAAAAABAAACAAAAAAEAAAoAAAAAAQAABAAAAAABAAAAAAAAAAEAAAIAAAAAAQAACgAAAAABAAAEAAAAAAEAAAAAAAAAAQAAAgAAAAABAAAKAAAAAAEAAAQAAAAAAQAAAAAAAAABAAACAAAAAAEAAAoAAAAAAQAABAAAAAABAAAAAAAAAAEAAAIAAAAAAQAACgAAAAABAAAEAAAAAAEAAAAAAAAAAQAAAgAAAAABAAAKAAAAAAEAAAQAAAAAAQAAAAAAAAABAAACAAAAAAEAAAoAAAAAAQAABAAAAAABAAAAAAAAAAEAAAIAAAAAAQAACgAAAAABAAAEAAAAAAEAAAAAAAAAAQAAAgAAAAABAAAKAAAAAAEAAAQAAAAAAQAAAAAAAAABAAACAAAAAAEAAAoAAAAAAQAABAAAAAABAAAAAAAAAAEAAAIAAAAAAQAACgAAAAABAAAEAAAAAAEAAAAAAAAAAQAAAgAAAAABAAAKAAAAAAEAAAQAAAAAAQAAAAAAAAABAAACAAAAAAEAAAoAAAAAAQAABAAAAAABAAAAAAAAAAEAAAIAAAAAAQAACAAAAAACAAACAAAAABxzdHNjAAAAAAAAAAEAAAABAAAAZAAAAAEAAAGkc3RzegAAAAAAAAAAAAAAZAAABOIAAACIAAAANAAAACQAAAAkAAAAigAAACQAAAATAAAAIgAAAB8AAAAWAAAAFAAAABQAAAAlAAAAFgAAABQAAAAUAAAAHAAAABYAAAAUAAAAFAAAABwAAAAzAAAAIAAAACEAAABVAAAAIgAAACAAAAATAAAAHAAAABUAAAATAAAAEwAAABwAAAAwAAAAHwAAAB8AAAA4AAAAQQAAACUAAAAnAAAAVAAAAC8AAAAhAAAAGwAAADEAAAAnAAAAJgAAACEAAAAiAAAAGAAAABYAAAATAAAAXQAAACMAAAATAAAAIQAAAEIAAAA2AAAAJQAAACQAAAAcAAAAKQAAACAAAAAhAAAAWAAAACQAAAATAAAAIgAAAC0AAAAmAAAAIwAAACEAAAA7AAAAPwAAACEAAAAiAAAAMAAAACcAAAAlAAAAJAAAADUAAAAiAAAAIQAAABMAAAAcAAAAFQAAABMAAAATAAAAHAAAABUAAAATAAAAIAAAADUAAAA4AAAAJgAAACUAAAAxAAAAJAAAACAAAAAUc3RjbwAAAAAAAAABAAAAMAAAAGJ1ZHRhAAAAWm1ldGEAAAAAAAAAIWhkbHIAAAAAAAAAAG1kaXJhcHBsAAAAAAAAAAAAAAAALWlsc3QAAAAlqXRvbwAAAB1kYXRhAAAAAQAAAABMYXZmNTguMjkuMTAw\" type=\"video/mp4\">\n",
              "    </video>\n",
              "    "
            ]
          },
          "metadata": {},
          "execution_count": 13
        }
      ]
    },
    {
      "cell_type": "markdown",
      "source": [
        "## Offline SAC (10 points)"
      ],
      "metadata": {
        "id": "WxqbDN6DU0AY"
      }
    },
    {
      "cell_type": "markdown",
      "source": [
        "In this part you are going to train an SAC agent using the replay buffer from the online agent. During training you sample from this replay buffer and train the offline agent **without adding transitions to the replay buffer**. The loss function and every thing else is the same as the online setting."
      ],
      "metadata": {
        "id": "QRwciG6WU6ES"
      }
    },
    {
      "cell_type": "code",
      "source": [
        "NUM_EPOCHS = 200\n",
        "EPISODES_PER_RUN = 500\n",
        "VALIDATION_EPISODES = 5\n",
        "\n",
        "env = gym.make(\"CartPole-v1\")\n",
        "# device = 'cuda' if torch.cuda.is_available() else 'cpu'\n",
        "device = 'cpu'\n",
        "##########################################################\n",
        "# TODO\n",
        "# Implement the training loop for the offline SAC.\n",
        "# After each epoch, run  validation\n",
        "# and plot the mean return over these\n",
        "# episodes in the end\n",
        "##########################################################\n",
        "agent = SACAgent(env, replay_buffer=replay_buffer, offline=True, device=device, buffer_batch_size=2**15)\n",
        "returns = []\n",
        "\n",
        "for epoch in range(NUM_EPOCHS):\n",
        "    agent.train_networks()\n",
        "\n",
        "    # Validation phase\n",
        "    total_rewards = []\n",
        "    for _ in range(VALIDATION_EPISODES):\n",
        "        state = env.reset()\n",
        "        episode_reward = 0\n",
        "        done = False\n",
        "\n",
        "        for step in range(STEPS_PER_EPISODE):\n",
        "            if done:\n",
        "                break\n",
        "\n",
        "            action = agent.get_next_action(state, evaluation_episode=True)\n",
        "            state, reward, done, _= env.step(action)\n",
        "            episode_reward += reward\n",
        "\n",
        "        total_rewards.append(episode_reward)\n",
        "\n",
        "    # Calculate and record validation results\n",
        "    mean_reward = np.mean(total_rewards)\n",
        "    std_reward = np.std(total_rewards)\n",
        "    returns.append((mean_reward))\n",
        "    if epoch % 10 == 0:\n",
        "      print(f'Epoch: {epoch + 1}, Mean Reward: {mean_reward}, Std Reward: {std_reward}')\n"
      ],
      "metadata": {
        "colab": {
          "base_uri": "https://localhost:8080/"
        },
        "id": "Zk9O_eEJvKKc",
        "outputId": "b081bc1b-c58a-4306-9436-693969aedb2c"
      },
      "execution_count": 91,
      "outputs": [
        {
          "output_type": "stream",
          "name": "stderr",
          "text": [
            "/usr/local/lib/python3.10/dist-packages/gym/core.py:317: DeprecationWarning: \u001b[33mWARN: Initializing wrapper in old step API which returns one bool instead of two. It is recommended to set `new_step_api=True` to use new step API. This will be the default behaviour in future.\u001b[0m\n",
            "  deprecation(\n",
            "/usr/local/lib/python3.10/dist-packages/gym/wrappers/step_api_compatibility.py:39: DeprecationWarning: \u001b[33mWARN: Initializing environment in old step API which returns one bool instead of two. It is recommended to set `new_step_api=True` to use new step API. This will be the default behaviour in future.\u001b[0m\n",
            "  deprecation(\n",
            "/usr/local/lib/python3.10/dist-packages/gym/utils/passive_env_checker.py:241: DeprecationWarning: `np.bool8` is a deprecated alias for `np.bool_`.  (Deprecated NumPy 1.24)\n",
            "  if not isinstance(terminated, (bool, np.bool8)):\n"
          ]
        },
        {
          "output_type": "stream",
          "name": "stdout",
          "text": [
            "Epoch: 1, Mean Reward: 15.0, Std Reward: 4.147288270665544\n",
            "Epoch: 11, Mean Reward: 9.4, Std Reward: 0.4898979485566356\n",
            "Epoch: 21, Mean Reward: 9.4, Std Reward: 0.7999999999999999\n",
            "Epoch: 31, Mean Reward: 9.2, Std Reward: 0.7483314773547882\n",
            "Epoch: 41, Mean Reward: 9.0, Std Reward: 0.8944271909999159\n",
            "Epoch: 51, Mean Reward: 9.4, Std Reward: 0.7999999999999999\n",
            "Epoch: 61, Mean Reward: 9.4, Std Reward: 0.4898979485566356\n",
            "Epoch: 71, Mean Reward: 10.0, Std Reward: 0.6324555320336759\n",
            "Epoch: 81, Mean Reward: 9.2, Std Reward: 0.39999999999999997\n",
            "Epoch: 91, Mean Reward: 11.4, Std Reward: 0.7999999999999999\n",
            "Epoch: 101, Mean Reward: 20.8, Std Reward: 4.261455150532504\n",
            "Epoch: 111, Mean Reward: 57.6, Std Reward: 15.47384890710776\n",
            "Epoch: 121, Mean Reward: 30.2, Std Reward: 3.4292856398964493\n",
            "Epoch: 131, Mean Reward: 21.8, Std Reward: 2.993325909419153\n",
            "Epoch: 141, Mean Reward: 15.2, Std Reward: 2.039607805437114\n",
            "Epoch: 151, Mean Reward: 11.2, Std Reward: 1.16619037896906\n",
            "Epoch: 161, Mean Reward: 9.0, Std Reward: 0.6324555320336759\n",
            "Epoch: 171, Mean Reward: 9.2, Std Reward: 0.39999999999999997\n",
            "Epoch: 181, Mean Reward: 9.8, Std Reward: 0.7483314773547882\n",
            "Epoch: 191, Mean Reward: 9.2, Std Reward: 0.7483314773547882\n"
          ]
        }
      ]
    },
    {
      "cell_type": "code",
      "source": [
        "print(np.sum(replay_buffer.weights <= 1e-3))\n",
        "print(replay_buffer.weights[-1])\n",
        "print(replay_buffer.get_size())"
      ],
      "metadata": {
        "colab": {
          "base_uri": "https://localhost:8080/"
        },
        "id": "GleLn2a82Kv1",
        "outputId": "44e2e4db-edea-4542-8cd3-6bbab429a8b2"
      },
      "execution_count": 90,
      "outputs": [
        {
          "output_type": "stream",
          "name": "stdout",
          "text": [
            "42820\n",
            "0.47876474261283875\n",
            "337047\n"
          ]
        }
      ]
    },
    {
      "cell_type": "markdown",
      "source": [
        "### So there is a bug in replay buffer, that every time I update the weights, it sums a $\\delta = 10^{-4}$ with any <font color='red'>all zero</font> transition which has <font color='red'>no</font> training gain."
      ],
      "metadata": {
        "id": "JwYLq-fS3NHA"
      }
    },
    {
      "cell_type": "code",
      "source": [
        "# reset weights\n",
        "replay_buffer.weights = np.zeros(replay_buffer.capacity)"
      ],
      "metadata": {
        "id": "TAHreMjD3-UV"
      },
      "execution_count": 92,
      "outputs": []
    },
    {
      "cell_type": "markdown",
      "source": [
        "## Solutions may consider updaiting replay buffer weights less often, lowering $\\delta$ or training on whole dataset."
      ],
      "metadata": {
        "id": "6MzKEYsI4U0-"
      }
    },
    {
      "cell_type": "code",
      "source": [
        "NUM_EPOCHS = 200\n",
        "EPISODES_PER_RUN = 500\n",
        "VALIDATION_EPISODES = 5\n",
        "\n",
        "env = gym.make(\"CartPole-v1\")\n",
        "device = 'cuda' if torch.cuda.is_available() else 'cpu'\n",
        "##########################################################\n",
        "# TODO\n",
        "# Implement the training loop for the offline SAC.\n",
        "# After each epoch, run  validation\n",
        "# and plot the mean return over these\n",
        "# episodes in the end\n",
        "##########################################################\n",
        "agent = SACAgent(env, replay_buffer=replay_buffer, offline=True, device=device, buffer_batch_size=2**7)\n",
        "returns = []\n",
        "\n",
        "for epoch in range(NUM_EPOCHS):\n",
        "    # Train the agent using data from the replay buffer\n",
        "    # I tried training on some sample batches, turns out there is massive bias and\n",
        "    # 200 epochs is not enough (makes absloutly sence). but here was the idea of training\n",
        "    # on whole of it which worked but cost me an all-nighter.\n",
        "    num_training_batches = agent.replay_buffer.get_size() // EPISODES_PER_RUN\n",
        "    for i in range(num_training_batches):\n",
        "        start_idx = i * EPISODES_PER_RUN\n",
        "        agent.train_networks(batch_deterministic_start=start_idx)\n",
        "\n",
        "    # Validation phase\n",
        "    total_rewards = []\n",
        "    for _ in range(VALIDATION_EPISODES):\n",
        "        state = env.reset()\n",
        "        episode_reward = 0\n",
        "        done = False\n",
        "\n",
        "        for step in range(STEPS_PER_EPISODE):\n",
        "            if done:\n",
        "                break\n",
        "\n",
        "            action = agent.get_next_action(state, evaluation_episode=True)\n",
        "            state, reward, done, _ = env.step(action)\n",
        "            episode_reward += reward\n",
        "\n",
        "        total_rewards.append(episode_reward)\n",
        "\n",
        "    # Calculate and record validation results\n",
        "    mean_reward = np.mean(total_rewards)\n",
        "    std_reward = np.std(total_rewards)\n",
        "    returns.append((mean_reward))\n",
        "    if epoch % 5 == 0:\n",
        "      print(f'Epoch: {epoch + 1}, Mean Reward: {mean_reward}, Std Reward: {std_reward}')\n"
      ],
      "metadata": {
        "id": "AcArEy_EU5H0",
        "trusted": true,
        "colab": {
          "base_uri": "https://localhost:8080/"
        },
        "outputId": "9f7c86c9-4d64-4b2e-b832-60d2878bd1bf"
      },
      "execution_count": null,
      "outputs": [
        {
          "output_type": "stream",
          "name": "stdout",
          "text": [
            "Epoch: 1, Mean Reward: 9.2, Std Reward: 0.7483314773547882\n",
            "Epoch: 6, Mean Reward: 55.6, Std Reward: 9.350935782048769\n",
            "Epoch: 11, Mean Reward: 200.0, Std Reward: 0.0\n",
            "Epoch: 16, Mean Reward: 183.0, Std Reward: 23.65586608010791\n",
            "Epoch: 21, Mean Reward: 145.8, Std Reward: 44.41801436354399\n",
            "Epoch: 26, Mean Reward: 135.8, Std Reward: 8.863407922464134\n",
            "Epoch: 31, Mean Reward: 156.0, Std Reward: 15.811388300841896\n",
            "Epoch: 36, Mean Reward: 188.6, Std Reward: 4.498888751680797\n",
            "Epoch: 41, Mean Reward: 200.0, Std Reward: 0.0\n",
            "Epoch: 46, Mean Reward: 200.0, Std Reward: 0.0\n",
            "Epoch: 51, Mean Reward: 196.4, Std Reward: 7.2\n",
            "Epoch: 56, Mean Reward: 200.0, Std Reward: 0.0\n",
            "Epoch: 61, Mean Reward: 200.0, Std Reward: 0.0\n",
            "Epoch: 66, Mean Reward: 200.0, Std Reward: 0.0\n",
            "Epoch: 71, Mean Reward: 200.0, Std Reward: 0.0\n",
            "Epoch: 76, Mean Reward: 200.0, Std Reward: 0.0\n",
            "Epoch: 81, Mean Reward: 200.0, Std Reward: 0.0\n",
            "Epoch: 86, Mean Reward: 200.0, Std Reward: 0.0\n",
            "Epoch: 91, Mean Reward: 200.0, Std Reward: 0.0\n",
            "Epoch: 96, Mean Reward: 200.0, Std Reward: 0.0\n",
            "Epoch: 101, Mean Reward: 200.0, Std Reward: 0.0\n",
            "Epoch: 106, Mean Reward: 200.0, Std Reward: 0.0\n",
            "Epoch: 111, Mean Reward: 200.0, Std Reward: 0.0\n",
            "Epoch: 116, Mean Reward: 200.0, Std Reward: 0.0\n",
            "Epoch: 121, Mean Reward: 200.0, Std Reward: 0.0\n",
            "Epoch: 126, Mean Reward: 200.0, Std Reward: 0.0\n",
            "Epoch: 131, Mean Reward: 200.0, Std Reward: 0.0\n",
            "Epoch: 136, Mean Reward: 200.0, Std Reward: 0.0\n",
            "Epoch: 141, Mean Reward: 200.0, Std Reward: 0.0\n",
            "Epoch: 146, Mean Reward: 200.0, Std Reward: 0.0\n",
            "Epoch: 151, Mean Reward: 200.0, Std Reward: 0.0\n",
            "Epoch: 156, Mean Reward: 200.0, Std Reward: 0.0\n",
            "Epoch: 161, Mean Reward: 200.0, Std Reward: 0.0\n",
            "Epoch: 166, Mean Reward: 200.0, Std Reward: 0.0\n",
            "Epoch: 171, Mean Reward: 200.0, Std Reward: 0.0\n",
            "Epoch: 176, Mean Reward: 200.0, Std Reward: 0.0\n",
            "Epoch: 181, Mean Reward: 200.0, Std Reward: 0.0\n",
            "Epoch: 186, Mean Reward: 200.0, Std Reward: 0.0\n",
            "Epoch: 191, Mean Reward: 200.0, Std Reward: 0.0\n",
            "Epoch: 196, Mean Reward: 200.0, Std Reward: 0.0\n"
          ]
        }
      ]
    },
    {
      "cell_type": "code",
      "source": [
        "epochs = range(1, len(returns) + 1)\n",
        "\n",
        "plt.figure(figsize=(12, 6))\n",
        "plt.plot(epochs, returns, label='Mean Reward', color='black')\n",
        "plt.xlabel('Epochs')\n",
        "plt.ylabel('Reward')\n",
        "plt.title('Offline SAC on CartPole-v1')\n",
        "plt.legend()\n",
        "plt.grid(True)\n",
        "plt.show()\n"
      ],
      "metadata": {
        "id": "bVLigC4GOLIQ",
        "colab": {
          "base_uri": "https://localhost:8080/",
          "height": 564
        },
        "outputId": "28e0af6c-d4cf-45a2-fe28-1c24999aa174"
      },
      "execution_count": null,
      "outputs": [
        {
          "output_type": "display_data",
          "data": {
            "text/plain": [
              "<Figure size 1200x600 with 1 Axes>"
            ],
            "image/png": "[encoded data removed]"
          },
          "metadata": {}
        }
      ]
    },
    {
      "cell_type": "code",
      "source": [
        "env = gym.make(\"CartPole-v1\", render_mode=\"rgb_array\")\n",
        "frames = []\n",
        "\n",
        "state = env.reset()\n",
        "for _ in range(100):\n",
        "    frames.append(env.render()[0])\n",
        "    action = agent.get_next_action(state, evaluation_episode=True)\n",
        "    state, reward, done, info = env.step(action)\n",
        "    if done:\n",
        "        break\n",
        "env.close()\n",
        "imageio.mimsave('./offline.mp4', frames, fps=25)\n",
        "show_video('./offline.mp4')"
      ],
      "metadata": {
        "id": "UQCpir_G2tIP",
        "trusted": true,
        "colab": {
          "base_uri": "https://localhost:8080/",
          "height": 322
        },
        "outputId": "91ce19bd-6c30-42ad-fe96-6976efe56517"
      },
      "execution_count": null,
      "outputs": [
        {
          "output_type": "stream",
          "name": "stderr",
          "text": [
            "WARNING:imageio_ffmpeg:IMAGEIO FFMPEG_WRITER WARNING: input image is not divisible by macro_block_size=16, resizing from (600, 400) to (608, 400) to ensure video compatibility with most codecs and players. To prevent resizing, make your input image divisible by the macro_block_size or set the macro_block_size to 1 (risking incompatibility).\n"
          ]
        },
        {
          "output_type": "execute_result",
          "data": {
            "text/plain": [
              "<IPython.core.display.HTML object>"
            ],
            "text/html": [
              "\n",
              "    <video width=400 controls>\n",
              "          <source src=\"data:video/mp4;base64,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\" type=\"video/mp4\">\n",
              "    </video>\n",
              "    "
            ]
          },
          "metadata": {},
          "execution_count": 18
        }
      ]
    },
    {
      "cell_type": "code",
      "source": [
        "with open('agent.pkl', 'wb') as file:\n",
        "    pickle.dump(agent, file)"
      ],
      "metadata": {
        "id": "6jpJVDFhpgmv"
      },
      "execution_count": null,
      "outputs": []
    },
    {
      "cell_type": "markdown",
      "source": [
        " # Behavioural Cloning (20 points)\n",
        "\n",
        "Behavioral cloning works by mimicking expert behavior through supervised learning. It involves collecting a dataset of expert trajectories, which are sequences of state-action pairs (unlike offline reinforcement learning, which also collects rewards to train the model). The model is then trained to predict the expert's actions based on the observed states. The goal is for the model to replicate the expert's behavior by minimizing the difference between its predicted actions and the expert's actions."
      ],
      "metadata": {
        "id": "WtI9ifQeSG2O"
      }
    },
    {
      "cell_type": "markdown",
      "source": [
        "We first need to collect data using the previously trained model."
      ],
      "metadata": {
        "id": "TEGow3ZtSex2"
      }
    },
    {
      "cell_type": "code",
      "source": [
        "env = gym.make('CartPole-v1')\n",
        "num_episodes = 1000\n",
        "expert_data = []\n",
        "\n",
        "# TODO\n",
        "# Collect state-action pairs\n",
        "for _ in range(num_episodes):\n",
        "    state = env.reset()\n",
        "    done = False\n",
        "    while not done:\n",
        "        action = agent.get_next_action(state, evaluation_episode=True)\n",
        "        next_state, reward, done, _ = env.step(action)\n",
        "        expert_data.append((state, action))\n",
        "        state = next_state\n",
        "\n",
        "states, actions = zip(*expert_data)\n",
        "states = np.array(states)\n",
        "actions = np.array(actions)\n",
        "\n",
        "states_tensor = torch.tensor(states, dtype=torch.float32)\n",
        "actions_tensor = torch.tensor(actions, dtype=torch.int64)"
      ],
      "metadata": {
        "id": "83vk-JHqSdqV",
        "trusted": true
      },
      "execution_count": null,
      "outputs": []
    },
    {
      "cell_type": "code",
      "source": [
        "print(states_tensor.shape)"
      ],
      "metadata": {
        "colab": {
          "base_uri": "https://localhost:8080/"
        },
        "id": "Egk9GrjEW-77",
        "outputId": "4f15cadb-6bdb-4215-c48b-614ee4f08546"
      },
      "execution_count": null,
      "outputs": [
        {
          "output_type": "stream",
          "name": "stdout",
          "text": [
            "torch.Size([499504, 4])\n"
          ]
        }
      ]
    },
    {
      "cell_type": "markdown",
      "source": [
        "Define the model for behaviuoral cloning."
      ],
      "metadata": {
        "id": "TzBsilklUdV_"
      }
    },
    {
      "cell_type": "code",
      "source": [
        "class BCModel(nn.Module):\n",
        "    def __init__(self, input_dimension, hidden_dimension, output_dimension):\n",
        "        super(BCModel, self).__init__()\n",
        "        # TODO\n",
        "        # Define the model\n",
        "        hidden_dimension1 = hidden_dimension*2\n",
        "        hidden_dimension2 = hidden_dimension\n",
        "        self.fc1 = nn.Linear(input_dimension, hidden_dimension1)\n",
        "        self.fc2 = nn.Linear(hidden_dimension1, hidden_dimension2)\n",
        "        self.fc3 = nn.Linear(hidden_dimension2, output_dimension)\n",
        "\n",
        "    def forward(self, x):\n",
        "        # TODO\n",
        "        # Perform forward pass\n",
        "        x = torch.relu(self.fc1(x))\n",
        "        x = torch.relu(self.fc2(x))\n",
        "        output = self.fc3(x)\n",
        "        return output"
      ],
      "metadata": {
        "id": "Xojov1LeUl_F",
        "trusted": true
      },
      "execution_count": null,
      "outputs": []
    },
    {
      "cell_type": "markdown",
      "source": [
        "In this section, we implement the training loop for behavioral cloning. During each iteration, we sample a minibatch of state-action pairs from the expert dataset. This minibatch is then used to update the model."
      ],
      "metadata": {
        "id": "2_guGo3XvrCH"
      }
    },
    {
      "cell_type": "code",
      "source": [
        "bc_model = BCModel(env.observation_space.shape[0], 64, env.action_space.n)\n",
        "criterion = nn.CrossEntropyLoss()\n",
        "optimizer = optim.Adam(bc_model.parameters(), lr=1e-3)\n",
        "\n",
        "num_epochs = 15\n",
        "batch_size = 64\n",
        "\n",
        "num_training_batches = len(expert_data) // batch_size\n",
        "\n",
        "for epoch in range(num_epochs):\n",
        "  total_loss = 0\n",
        "  # TODO\n",
        "  # Implement behavioural cloning training loop\n",
        "  for i in range(num_training_batches):\n",
        "    start_idx = i * batch_size\n",
        "    end_idx = (i + 1) * batch_size\n",
        "    states_batch = states_tensor[start_idx:end_idx]\n",
        "    actions_batch = actions_tensor[start_idx:end_idx]\n",
        "    optimizer.zero_grad()\n",
        "    output = bc_model(states_batch)\n",
        "    loss = criterion(output, actions_batch)\n",
        "    loss.backward()\n",
        "    optimizer.step()\n",
        "    total_loss += loss.item()\n",
        "\n",
        "  print(f'Epoch {epoch+1}/{num_epochs}, Loss: {total_loss}')"
      ],
      "metadata": {
        "id": "ZxLrpNIpg2Mu",
        "trusted": true,
        "colab": {
          "base_uri": "https://localhost:8080/"
        },
        "outputId": "c2ce959f-60d1-4ba7-8a93-e2d570efd379"
      },
      "execution_count": null,
      "outputs": [
        {
          "output_type": "stream",
          "name": "stdout",
          "text": [
            "Epoch 1/15, Loss: 1520.6781954730395\n",
            "Epoch 2/15, Loss: 974.1399463982088\n",
            "Epoch 3/15, Loss: 889.4929268824635\n",
            "Epoch 4/15, Loss: 796.3584466506145\n",
            "Epoch 5/15, Loss: 686.411839272012\n",
            "Epoch 6/15, Loss: 609.0962270486634\n",
            "Epoch 7/15, Loss: 566.0849508729007\n",
            "Epoch 8/15, Loss: 517.0156955561761\n",
            "Epoch 9/15, Loss: 482.43003192677315\n",
            "Epoch 10/15, Loss: 448.02989144825074\n",
            "Epoch 11/15, Loss: 427.81974108576736\n",
            "Epoch 12/15, Loss: 408.8239830394077\n",
            "Epoch 13/15, Loss: 396.56855085943425\n",
            "Epoch 14/15, Loss: 381.3696317272488\n",
            "Epoch 15/15, Loss: 370.70512913424045\n"
          ]
        }
      ]
    },
    {
      "cell_type": "markdown",
      "source": [
        "Evaluate and render the results."
      ],
      "metadata": {
        "id": "eAe_p1uTw7uP"
      }
    },
    {
      "cell_type": "code",
      "source": [
        "env = gym.make(\"CartPole-v1\", render_mode=\"rgb_array\")\n",
        "frames = []\n",
        "\n",
        "state = env.reset()\n",
        "for _ in range(100):\n",
        "    frames.append(env.render()[0])\n",
        "    state = torch.tensor(state).unsqueeze(0)\n",
        "    action = torch.argmax(bc_model(state)).item()\n",
        "    state, reward, done, _ = env.step(action)\n",
        "    if done:\n",
        "        break\n",
        "env.close()\n",
        "imageio.mimsave('./bc.mp4', frames, fps=25)\n",
        "show_video('./bc.mp4')"
      ],
      "metadata": {
        "id": "LL1Qik9DhJh0",
        "trusted": true,
        "colab": {
          "base_uri": "https://localhost:8080/",
          "height": 460
        },
        "outputId": "dc385dbe-35a0-443a-d6f0-3b8956ed0afa"
      },
      "execution_count": null,
      "outputs": [
        {
          "output_type": "stream",
          "name": "stderr",
          "text": [
            "/usr/local/lib/python3.10/dist-packages/gym/core.py:317: DeprecationWarning: \u001b[33mWARN: Initializing wrapper in old step API which returns one bool instead of two. It is recommended to set `new_step_api=True` to use new step API. This will be the default behaviour in future.\u001b[0m\n",
            "  deprecation(\n",
            "/usr/local/lib/python3.10/dist-packages/gym/wrappers/step_api_compatibility.py:39: DeprecationWarning: \u001b[33mWARN: Initializing environment in old step API which returns one bool instead of two. It is recommended to set `new_step_api=True` to use new step API. This will be the default behaviour in future.\u001b[0m\n",
            "  deprecation(\n",
            "/usr/local/lib/python3.10/dist-packages/gym/utils/passive_env_checker.py:241: DeprecationWarning: `np.bool8` is a deprecated alias for `np.bool_`.  (Deprecated NumPy 1.24)\n",
            "  if not isinstance(terminated, (bool, np.bool8)):\n",
            "WARNING:imageio_ffmpeg:IMAGEIO FFMPEG_WRITER WARNING: input image is not divisible by macro_block_size=16, resizing from (600, 400) to (608, 400) to ensure video compatibility with most codecs and players. To prevent resizing, make your input image divisible by the macro_block_size or set the macro_block_size to 1 (risking incompatibility).\n",
            "/usr/lib/python3.10/subprocess.py:1796: RuntimeWarning: os.fork() was called. os.fork() is incompatible with multithreaded code, and JAX is multithreaded, so this will likely lead to a deadlock.\n",
            "  self.pid = _posixsubprocess.fork_exec(\n"
          ]
        },
        {
          "output_type": "execute_result",
          "data": {
            "text/plain": [
              "<IPython.core.display.HTML object>"
            ],
            "text/html": [
              "\n",
              "    <video width=400 controls>\n",
              "          <source src=\"data:video/mp4;base64,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\" type=\"video/mp4\">\n",
              "    </video>\n",
              "    "
            ]
          },
          "metadata": {},
          "execution_count": 33
        }
      ]
    }
  ]
}